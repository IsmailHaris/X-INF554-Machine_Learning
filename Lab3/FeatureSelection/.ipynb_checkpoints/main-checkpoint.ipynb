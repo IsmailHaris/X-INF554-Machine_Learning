{
 "cells": [
  {
   "cell_type": "code",
   "execution_count": 1,
   "metadata": {},
   "outputs": [],
   "source": [
    "################ Feature selection for classification ######################\n",
    "# This program computes the infornation gain and chisquare measures for the \n",
    "# data set \"data.csv\".\n",
    "# Then, for a specificed number of features trains the classifier (in this \n",
    "# case logistic regression). Finally, it computes and visualizes precision/\n",
    "# recall curves. \n",
    "############################################################################\n",
    "\n",
    "import numpy as np\n",
    "from math import pow\n",
    "import timeit\n",
    "import matplotlib.pyplot as plt\n",
    "from chiSQ import chiSQ\n",
    "from infogain import infogain\n",
    "from logisticRegression import logisticRegression\n",
    "from scipy import stats"
   ]
  },
  {
   "cell_type": "code",
   "execution_count": 23,
   "metadata": {
    "scrolled": false
   },
   "outputs": [],
   "source": [
    "def main(featureSelection = True, selection_type=\"infogain\", num_feat = 50, enable_plot=True):\n",
    "    print(\"\\nRunning with \" + str(num_feat) + \" features…\")\n",
    "\n",
    "    # Load the data set \n",
    "    data = np.loadtxt('./data.csv', delimiter=',')\n",
    "    #load 1st column \n",
    "    Y = data[:,0:1]\n",
    "    # load columns 2 - end\n",
    "    X = data[:,1:data.shape[1]]\n",
    "\n",
    "    # Enables or disables feature selection\n",
    "    ## TODO: Set 'True' or 'False' this variable\n",
    "\n",
    "    if featureSelection == True:\n",
    "        # Number of features to be considered in the classification\n",
    "        # should be changed to compare performance for different number \n",
    "        # of features\n",
    "        ## TODO: Set the 'num_feat' variable to the number of features\n",
    "\n",
    "        # For each feature we get its feature selection value (x^2 or IG)\n",
    "        ## TODO: uncommnent chiSQ(X,Y) to compute chi^2 measure\n",
    "        \n",
    "        if selection_type == \"chiSQ\":\n",
    "            gain = chiSQ(X,Y)\n",
    "        else:\n",
    "            gain = infogain(X,Y)\n",
    "\n",
    "        index = np.argsort(gain)[::-1]\n",
    "\n",
    "        ########## ADD YOUR CODE HERE #######################################\n",
    "        # Compute Kendall tau correlation\n",
    "        ## TODO: Compute the Kendall tau correlation of the features' lists produced\n",
    "        # by the two feature selection measures\n",
    "\n",
    "\n",
    "        #####################################################################\n",
    "\n",
    "        # Select the top num_feat features\n",
    "        X = X[:,index[:num_feat]]\n",
    "\n",
    "    X = np.transpose(X)\n",
    "\n",
    "    # Start measuring execution time\n",
    "    start = timeit.default_timer()\n",
    "\n",
    "    # Train the classifier\n",
    "    w = logisticRegression(X,Y)\n",
    "\n",
    "    # Print logistic regression learning execution time\n",
    "    stop = timeit.default_timer()\n",
    "    print ('Running Time: ' + str(stop-start))\n",
    "\n",
    "    # Load test data and split data from class labels\n",
    "    data = np.loadtxt('./test.csv', delimiter=',')\n",
    "    rY = data[:, 0] # The real class labels\n",
    "    test = np.transpose(data[:, 1:data.shape[1]])\n",
    "\n",
    "    # Keep the features indicated by the feature selection task\n",
    "    if featureSelection == True: \n",
    "        test = test[index[:num_feat],:]\n",
    "\n",
    "    # Perform predictions of the test data\n",
    "    pY = 1/(1+np.exp(-np.dot(np.transpose(test),w))) # predictions for the class\n",
    "    oldpY = np.copy(pY) # keep a copy of the class vector\n",
    "\n",
    "    # Matrix to store the precicion recall values\n",
    "    prerec = np.zeros((101,2))\n",
    "\n",
    "    # Here we create the Precision-Recall curve applying thresholding and using\n",
    "    # several values for the threshold. To do so, we need to compute the confusion\n",
    "    # matrix (true positive, false positive, false negative)\n",
    "    for i in range(101):\n",
    "        tp = 0 # true positive\n",
    "        fp = 0 # false positive\n",
    "        fn = 0 # false negative\n",
    "\n",
    "        thres = float(i)/100\n",
    "\n",
    "        pY = np.copy(oldpY)    \n",
    "\n",
    "        c1 = np.where(pY>=thres)[0] # the items classified 1\n",
    "        c2 = np.where(pY<thres)[0]  # the items classified 0\n",
    "        pY[c1] = 1\n",
    "        pY[c2] = 0\n",
    "\n",
    "        # Fill confusion matrix\n",
    "        for j in range(test.shape[1]):\n",
    "            if pY[j] == 1:\n",
    "                if rY[j] == 1: # the real class value for the specific data point\n",
    "                    tp += 1\n",
    "                else:\n",
    "                    fp += 1\n",
    "\n",
    "            if pY[j] == 0 and rY[j] == 1:\n",
    "                fn += 1\n",
    "\n",
    "        try:                 \n",
    "            precisiontmp = float(tp)/(tp+fp)\n",
    "        except ZeroDivisionError:\n",
    "            precisiontmp = np.nan\n",
    "\n",
    "        recalltmp = float(tp)/(tp+fn)\n",
    "\n",
    "        # Fill precision-recall values for the precision-recall curve    \n",
    "        prerec[i,0] = recalltmp\n",
    "        prerec[i,1] = precisiontmp\n",
    "        \n",
    "        trapez_rule_area = np.trapz(prerec[:,0],dx=0.01)\n",
    "\n",
    "    if enable_plot:\n",
    "        # Draw the precision recall curve\n",
    "        plt.plot(prerec[:,0], prerec[:,1],marker='+')\n",
    "        print('\\nTrapezoidal rule Area: {}'.format(trapez_rule_area))\n",
    "\n",
    "        if featureSelection == True:\n",
    "            plt.title('Logistic regression with ' + str(num_feat) + ' features')\n",
    "        else:\n",
    "            plt.title('Logistic regression with all features')\n",
    "        plt.ylim([0.0, 1.05])\n",
    "        plt.xlim([0.0, 1.0])    \n",
    "        plt.xlabel('Recall')\n",
    "        plt.ylabel('Precision')\n",
    "        plt.show()\n",
    "\n",
    "    return trapez_rule_area, prerec[:,0]"
   ]
  },
  {
   "cell_type": "markdown",
   "metadata": {},
   "source": [
    "# Questions 3, 5, 7"
   ]
  },
  {
   "cell_type": "code",
   "execution_count": 15,
   "metadata": {
    "scrolled": true
   },
   "outputs": [
    {
     "name": "stdout",
     "output_type": "stream",
     "text": [
      "\n",
      "Running with 20 features…\n",
      "Running Time: 3.7075850770052057\n",
      "\n",
      "Running with 40 features…\n",
      "Running Time: 3.478717866993975\n",
      "\n",
      "Running with 60 features…\n",
      "Running Time: 4.7267388430045685\n",
      "\n",
      "Running with 80 features…\n",
      "Running Time: 4.538732848006475\n",
      "\n",
      "Running with 100 features…\n",
      "Running Time: 3.685789125993324\n",
      "\n",
      "Running with 150 features…\n",
      "Running Time: 3.842873130000953\n"
     ]
    }
   ],
   "source": [
    "num_feats = [20,40,60,80,100,150]\n",
    "trapez_rule_areas = []\n",
    "\n",
    "for num_feat in num_feats:\n",
    "    trapez_rule_areas.append(main(num_feat=num_feat, enable_plot=False)[0])"
   ]
  },
  {
   "cell_type": "code",
   "execution_count": 18,
   "metadata": {},
   "outputs": [
    {
     "data": {
      "image/png": "[encoded data removed]",
      "text/plain": [
       "<Figure size 432x288 with 1 Axes>"
      ]
     },
     "metadata": {},
     "output_type": "display_data"
    }
   ],
   "source": [
    "plt.plot(num_feats, trapez_rule_areas ,marker='+')\n",
    "plt.xlabel('Precision')\n",
    "plt.ylabel('Feature number')\n",
    "plt.show()"
   ]
  },
  {
   "cell_type": "markdown",
   "metadata": {},
   "source": [
    "Increasing the number of features :\n",
    "- increases accuracy\n",
    "- increases execution time"
   ]
  },
  {
   "cell_type": "code",
   "execution_count": 14,
   "metadata": {
    "scrolled": false
   },
   "outputs": [
    {
     "name": "stdout",
     "output_type": "stream",
     "text": [
      "\n",
      "Running with 50 features…\n",
      "Running Time: 3.249155626996071\n",
      "\n",
      "Trapezoidal rule Area: 0.390859375\n"
     ]
    },
    {
     "data": {
      "image/png": "[encoded data removed]",
      "text/plain": [
       "<Figure size 432x288 with 1 Axes>"
      ]
     },
     "metadata": {},
     "output_type": "display_data"
    },
    {
     "data": {
      "text/plain": [
       "0.390859375"
      ]
     },
     "execution_count": 14,
     "metadata": {},
     "output_type": "execute_result"
    }
   ],
   "source": [
    "main()"
   ]
  },
  {
   "cell_type": "markdown",
   "metadata": {},
   "source": [
    "# Question 6"
   ]
  },
  {
   "cell_type": "code",
   "execution_count": 24,
   "metadata": {},
   "outputs": [
    {
     "name": "stdout",
     "output_type": "stream",
     "text": [
      "\n",
      "Running with 50 features…\n",
      "Running Time: 3.2886049240041757\n",
      "\n",
      "Trapezoidal rule Area: 0.6140625\n"
     ]
    },
    {
     "data": {
      "image/png": "[encoded data removed]",
      "text/plain": [
       "<Figure size 432x288 with 1 Axes>"
      ]
     },
     "metadata": {},
     "output_type": "display_data"
    },
    {
     "name": "stdout",
     "output_type": "stream",
     "text": [
      "\n",
      "Running with 50 features…\n",
      "Running Time: 3.215367308999703\n",
      "\n",
      "Trapezoidal rule Area: 0.390859375\n"
     ]
    },
    {
     "data": {
      "image/png": "[encoded data removed]",
      "text/plain": [
       "<Figure size 432x288 with 1 Axes>"
      ]
     },
     "metadata": {},
     "output_type": "display_data"
    },
    {
     "ename": "NameError",
     "evalue": "name 'scipy' is not defined",
     "output_type": "error",
     "traceback": [
      "\u001b[0;31m---------------------------------------------------------------------------\u001b[0m",
      "\u001b[0;31mNameError\u001b[0m                                 Traceback (most recent call last)",
      "\u001b[0;32m<ipython-input-24-2b73c2cb4a1c>\u001b[0m in \u001b[0;36m<module>\u001b[0;34m()\u001b[0m\n\u001b[1;32m      2\u001b[0m \u001b[0mfrom_infogain\u001b[0m \u001b[0;34m=\u001b[0m \u001b[0mmain\u001b[0m\u001b[0;34m(\u001b[0m\u001b[0mselection_type\u001b[0m\u001b[0;34m=\u001b[0m\u001b[0;34m\"infogain\"\u001b[0m\u001b[0;34m)\u001b[0m\u001b[0;34m[\u001b[0m\u001b[0;36m1\u001b[0m\u001b[0;34m]\u001b[0m\u001b[0;34m\u001b[0m\u001b[0m\n\u001b[1;32m      3\u001b[0m \u001b[0;34m\u001b[0m\u001b[0m\n\u001b[0;32m----> 4\u001b[0;31m \u001b[0mscipy\u001b[0m\u001b[0;34m.\u001b[0m\u001b[0mstats\u001b[0m\u001b[0;34m.\u001b[0m\u001b[0mkendalltau\u001b[0m\u001b[0;34m(\u001b[0m\u001b[0mx\u001b[0m\u001b[0;34m,\u001b[0m \u001b[0my\u001b[0m\u001b[0;34m)\u001b[0m\u001b[0;34m\u001b[0m\u001b[0m\n\u001b[0m",
      "\u001b[0;31mNameError\u001b[0m: name 'scipy' is not defined"
     ]
    }
   ],
   "source": [
    "from_chiSQ    = main(selection_type=\"chiSQ\")[1]\n",
    "from_infogain = main(selection_type=\"infogain\")[1]"
   ]
  },
  {
   "cell_type": "code",
   "execution_count": null,
   "metadata": {},
   "outputs": [],
   "source": [
    "scipy.stats.kendalltau(from_chiSQ, from_infogain)"
   ]
  }
 ],
 "metadata": {
  "kernelspec": {
   "display_name": "Python 3",
   "language": "python",
   "name": "python3"
  },
  "language_info": {
   "codemirror_mode": {
    "name": "ipython",
    "version": 3
   },
   "file_extension": ".py",
   "mimetype": "text/x-python",
   "name": "python",
   "nbconvert_exporter": "python",
   "pygments_lexer": "ipython3",
   "version": "3.6.3"
  }
 },
 "nbformat": 4,
 "nbformat_minor": 2
}
