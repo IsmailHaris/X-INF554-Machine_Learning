{
 "cells": [
  {
   "cell_type": "code",
   "execution_count": 117,
   "metadata": {},
   "outputs": [],
   "source": [
    "import numpy as np\n",
    "from time import time\n",
    "from __future__ import print_function\n",
    "import tensorflow as tf"
   ]
  },
  {
   "cell_type": "code",
   "execution_count": 118,
   "metadata": {},
   "outputs": [],
   "source": [
    "# Load and parse the data (N instances, D features, L=6 labels)\n",
    "XY = np.genfromtxt('data/scene.csv', skip_header=1, delimiter=\",\")\n",
    "N,DL = XY.shape\n",
    "L = 6\n",
    "D = DL - L\n",
    "Y = XY[:,0:L].astype(int)\n",
    "X = XY[:,L:D+L]\n",
    "\n",
    "# Split into train/test sets\n",
    "n = int(N*6/10)\n",
    "X_train = X[0:n]\n",
    "Y_train = Y[0:n]\n",
    "X_test = X[n:]\n",
    "Y_test = Y[n:]"
   ]
  },
  {
   "cell_type": "code",
   "execution_count": 110,
   "metadata": {},
   "outputs": [],
   "source": [
    "class Network():\n",
    "\n",
    "    def __init__(self, learning_rate=0.005):\n",
    "        ''' initialize the classifier with default (best) parameters '''\n",
    "        # TODO\n",
    "        self.alpha = learning_rate\n",
    "        self.weight_decay = 3e-4\n",
    "        self.batch_size = 30\n",
    "        self.num_epoch = 0\n",
    "        self.clock = time()\n",
    "\n",
    "        # tf Graph Input\n",
    "        self.x = tf.placeholder(tf.float32, [None, 294]) \n",
    "        self.y = tf.placeholder(tf.float32, [None, 6]) \n",
    "\n",
    "        # Set model weights\n",
    "        W1 = tf.Variable(tf.random_normal([294, 64]))\n",
    "        b1 = tf.Variable(tf.random_normal([64]))\n",
    "        W2 = tf.Variable(tf.random_normal([64, 32]))\n",
    "        b2 = tf.Variable(tf.random_normal([32]))\n",
    "        W3 = tf.Variable(tf.random_normal([32, 6]))\n",
    "        b3 = tf.Variable(tf.random_normal([6]))\n",
    "\n",
    "        # Construct model\n",
    "        layer1 = tf.nn.sigmoid(tf.matmul(self.x, W1) + b1)\n",
    "        layer2 = tf.nn.sigmoid(tf.matmul(layer1, W2) + b2)\n",
    "        self.pred = tf.add(tf.matmul(layer2, W3), b3) \n",
    "\n",
    "        # Minimize error using sigmoid cross entropy\n",
    "        self.cost = tf.reduce_mean(\n",
    "            tf.nn.sigmoid_cross_entropy_with_logits(\n",
    "                labels=self.y,\n",
    "                logits=self.pred)) + self.weight_decay*tf.add_n([tf.nn.l2_loss(v) for v in tf.trainable_variables()])\n",
    "\n",
    "        # Gradient Descent\n",
    "        optimizer = tf.train.AdamOptimizer(learning_rate=self.alpha)\n",
    "        self.opt = optimizer.minimize(self.cost)\n",
    "\n",
    "        # Initialize the variables (i.e. assign their default value)\n",
    "        init = tf.global_variables_initializer()\n",
    "        self.sess = tf.Session()\n",
    "        self.sess.run(init)\n",
    "\n",
    "\n",
    "    def fit(self,X,Y,warm_start=True,n_epochs=10):\n",
    "        ''' train the network, and if warm_start, then do not reinit. the network\n",
    "            (if it has already been initialized)\n",
    "        '''\n",
    "\n",
    "        self.n_labels = Y.shape[1]\n",
    "        self.batch_per_epoch = int(X.shape[0]/self.batch_size)\n",
    "\n",
    "        if not warm_start:\n",
    "            self.sess.close()\n",
    "            self.__init__()\n",
    "\n",
    "        # Training cycle\n",
    "        for epoch in range(n_epochs):\n",
    "            self.num_epoch += 1\n",
    "            avg_cost = 0.\n",
    "\n",
    "            # Loop over all batches\n",
    "            for i in range(self.batch_per_epoch):\n",
    "                batch_x = X[self.batch_size*i:self.batch_size*(i+1),:]\n",
    "                batch_y = Y[self.batch_size*i:self.batch_size*(i+1),:] \n",
    "\n",
    "                # Run optimization op (backprop) and cost op (to get loss value)\n",
    "                _, c = self.sess.run([self.opt, self.cost], \n",
    "                    feed_dict={self.x: batch_x, self.y: batch_y})\n",
    "\n",
    "                # Compute average loss\n",
    "                avg_cost += c / self.batch_per_epoch\n",
    "\n",
    "            # Display logs per epoch step\n",
    "            if self.num_epoch % n_epochs == 0:\n",
    "                print(\"Epoch:\", '%04d' % (self.num_epoch), \n",
    "                    \"cost=\", \"{:.9f}\".format(avg_cost), \n",
    "                    \"time=\", \"{:.4f}\".format(time()-self.clock))\n",
    "\n",
    "        return self\n",
    "\n",
    "    def predict_proba(self,X):\n",
    "        ''' return a matrix P where P[i,j] = P(Y[i,j]=1), \n",
    "        for all instances i, and labels j. '''\n",
    "        predict_proba = self.sess.run(tf.nn.sigmoid(self.pred), feed_dict={self.x: X})\n",
    "        return predict_proba\n",
    "\n",
    "    def predict(self,X):\n",
    "        ''' return a matrix of predictions for X '''\n",
    "        return (self.predict_proba(X) >= 0.4).astype(int)\n",
    "\n"
   ]
  },
  {
   "cell_type": "code",
   "execution_count": 111,
   "metadata": {},
   "outputs": [],
   "source": [
    "# Test our classifier \n",
    "h = Network()"
   ]
  },
  {
   "cell_type": "code",
   "execution_count": 112,
   "metadata": {
    "scrolled": false
   },
   "outputs": [
    {
     "name": "stdout",
     "output_type": "stream",
     "text": [
      "Epoch: 0010 cost= 2.759097159 time= 5.5551\n",
      "Epoch: 0020 cost= 0.545715301 time= 7.6774\n",
      "Epoch: 0030 cost= 0.343022718 time= 9.7289\n",
      "Epoch: 0040 cost= 0.293416531 time= 11.8204\n",
      "Epoch: 0050 cost= 0.266463466 time= 13.8732\n",
      "Epoch: 0060 cost= 0.254287479 time= 15.9227\n",
      "Epoch: 0070 cost= 0.247133556 time= 17.9702\n",
      "Epoch: 0080 cost= 0.243112248 time= 20.0286\n",
      "Epoch: 0090 cost= 0.238250974 time= 22.0957\n",
      "Epoch: 0100 cost= 0.235567797 time= 24.1355\n",
      "Epoch: 0110 cost= 0.231242832 time= 26.2001\n",
      "Epoch: 0120 cost= 0.228838732 time= 28.3421\n",
      "Epoch: 0130 cost= 0.227883970 time= 30.4209\n",
      "Epoch: 0140 cost= 0.226327663 time= 32.4687\n",
      "Epoch: 0150 cost= 0.225052990 time= 34.5304\n",
      "Epoch: 0160 cost= 0.224715077 time= 36.5712\n",
      "Epoch: 0170 cost= 0.224198000 time= 38.6188\n",
      "Epoch: 0180 cost= 0.223487302 time= 40.6695\n",
      "Epoch: 0190 cost= 0.223584134 time= 42.7360\n",
      "Epoch: 0200 cost= 0.223378867 time= 44.7818\n",
      "Epoch: 0210 cost= 0.223642280 time= 46.8380\n",
      "Epoch: 0220 cost= 0.223368417 time= 48.8925\n",
      "Epoch: 0230 cost= 0.222593207 time= 50.9348\n",
      "Epoch: 0240 cost= 0.221701654 time= 52.9792\n",
      "Epoch: 0250 cost= 0.221184662 time= 55.0341\n",
      "Epoch: 0260 cost= 0.221101664 time= 57.0874\n",
      "Epoch: 0270 cost= 0.221337775 time= 59.1301\n",
      "Epoch: 0280 cost= 0.222025265 time= 61.2739\n",
      "Epoch: 0290 cost= 0.224609942 time= 63.3736\n",
      "Epoch: 0300 cost= 0.231248572 time= 65.4478\n",
      "Epoch: 0310 cost= 0.220851566 time= 67.5489\n",
      "Epoch: 0320 cost= 0.219406652 time= 69.6003\n",
      "Epoch: 0330 cost= 0.219287073 time= 71.6952\n",
      "Epoch: 0340 cost= 0.219696778 time= 73.7834\n",
      "Epoch: 0350 cost= 0.220540392 time= 75.8244\n",
      "Epoch: 0360 cost= 0.221885603 time= 77.8902\n",
      "Epoch: 0370 cost= 0.224017154 time= 79.9366\n",
      "Epoch: 0380 cost= 0.226793090 time= 81.9774\n",
      "Epoch: 0390 cost= 0.219136852 time= 84.0632\n",
      "Epoch: 0400 cost= 0.217412748 time= 86.1255\n",
      "Epoch: 0410 cost= 0.217611495 time= 88.3332\n",
      "Epoch: 0420 cost= 0.217944502 time= 90.4655\n",
      "Epoch: 0430 cost= 0.218215538 time= 93.4761\n",
      "Epoch: 0440 cost= 0.218630852 time= 95.5795\n",
      "Epoch: 0450 cost= 0.219384529 time= 97.8064\n",
      "Epoch: 0460 cost= 0.220636176 time= 100.5190\n",
      "Epoch: 0470 cost= 0.226111636 time= 103.5917\n",
      "Epoch: 0480 cost= 0.218806081 time= 107.0961\n",
      "Epoch: 0490 cost= 0.216349035 time= 109.2072\n",
      "Epoch: 0500 cost= 0.216759451 time= 111.2730\n",
      "Epoch: 0510 cost= 0.217222565 time= 113.4459\n",
      "Epoch: 0520 cost= 0.217468465 time= 115.5518\n",
      "Epoch: 0530 cost= 0.217697643 time= 117.8207\n",
      "Epoch: 0540 cost= 0.218196477 time= 119.9463\n",
      "Epoch: 0550 cost= 0.219436035 time= 122.0796\n",
      "Epoch: 0560 cost= 0.223913807 time= 124.7878\n"
     ]
    },
    {
     "ename": "AttributeError",
     "evalue": "'Network' object has no attribute 'epoch'",
     "output_type": "error",
     "traceback": [
      "\u001b[0;31m---------------------------------------------------------------------------\u001b[0m",
      "\u001b[0;31mAttributeError\u001b[0m                            Traceback (most recent call last)",
      "\u001b[0;32m<ipython-input-112-08a91d5c0566>\u001b[0m in \u001b[0;36m<module>\u001b[0;34m()\u001b[0m\n\u001b[1;32m      3\u001b[0m     \u001b[0mh\u001b[0m\u001b[0;34m.\u001b[0m\u001b[0mfit\u001b[0m\u001b[0;34m(\u001b[0m\u001b[0mX_train\u001b[0m\u001b[0;34m,\u001b[0m\u001b[0mY_train\u001b[0m\u001b[0;34m,\u001b[0m \u001b[0mwarm_start\u001b[0m\u001b[0;34m=\u001b[0m\u001b[0;32mTrue\u001b[0m\u001b[0;34m)\u001b[0m\u001b[0;34m\u001b[0m\u001b[0m\n\u001b[1;32m      4\u001b[0m \u001b[0;34m\u001b[0m\u001b[0m\n\u001b[0;32m----> 5\u001b[0;31m \u001b[0mprint\u001b[0m\u001b[0;34m(\u001b[0m\u001b[0;34m\"Trained %d epochs in %d seconds.\"\u001b[0m \u001b[0;34m%\u001b[0m \u001b[0;34m(\u001b[0m\u001b[0mh\u001b[0m\u001b[0;34m.\u001b[0m\u001b[0mepoch\u001b[0m\u001b[0;34m,\u001b[0m\u001b[0mint\u001b[0m\u001b[0;34m(\u001b[0m\u001b[0mclock\u001b[0m\u001b[0;34m(\u001b[0m\u001b[0;34m)\u001b[0m \u001b[0;34m-\u001b[0m \u001b[0mt0\u001b[0m\u001b[0;34m)\u001b[0m\u001b[0;34m)\u001b[0m\u001b[0;34m)\u001b[0m\u001b[0;34m\u001b[0m\u001b[0m\n\u001b[0m",
      "\u001b[0;31mAttributeError\u001b[0m: 'Network' object has no attribute 'epoch'"
     ]
    }
   ],
   "source": [
    "t0 = time()\n",
    "while (time() - t0) < 120:\n",
    "    h.fit(X_train,Y_train, warm_start=True)\n",
    "\n",
    "print(\"Trained %d epochs in %d seconds.\" % (h.epoch,int(time() - t0)))"
   ]
  },
  {
   "cell_type": "code",
   "execution_count": 106,
   "metadata": {},
   "outputs": [],
   "source": [
    "def results(X_test):\n",
    "    proba = h.predict_proba(X_test)\n",
    "    Y_pred = (proba >= 0.4).astype(int)\n",
    "    print(\"sum(sum(Y_pred)) = {}\".format(sum(sum(Y_pred))))\n",
    "    print(\"sum(sum(Y_test)) = {}\".format(sum(sum(Y_test))))\n",
    "    tester = Y_pred != Y_test\n",
    "    loss = np.mean(tester)\n",
    "    print(\"Hamming loss     =\", loss)\n",
    "\n",
    "    for i in range(len(tester)):\n",
    "        if any(tester[i]):\n",
    "            formattedProba = [ '%.2f' % elem for elem in proba[i] ]\n",
    "            print(\"{:03d} : PROB = {} | PRED = {}  |  TEST = {}\".format(i, formattedProba, Y_pred[i],Y_test[i]))"
   ]
  },
  {
   "cell_type": "code",
   "execution_count": 107,
   "metadata": {
    "scrolled": false
   },
   "outputs": [
    {
     "ename": "AttributeError",
     "evalue": "'Network' object has no attribute 'logits'",
     "output_type": "error",
     "traceback": [
      "\u001b[0;31m---------------------------------------------------------------------------\u001b[0m",
      "\u001b[0;31mAttributeError\u001b[0m                            Traceback (most recent call last)",
      "\u001b[0;32m<ipython-input-107-a2941006d25e>\u001b[0m in \u001b[0;36m<module>\u001b[0;34m()\u001b[0m\n\u001b[0;32m----> 1\u001b[0;31m \u001b[0mresults\u001b[0m\u001b[0;34m(\u001b[0m\u001b[0mX_test\u001b[0m\u001b[0;34m)\u001b[0m\u001b[0;34m\u001b[0m\u001b[0m\n\u001b[0m",
      "\u001b[0;32m<ipython-input-106-acfc0651a70a>\u001b[0m in \u001b[0;36mresults\u001b[0;34m(X_test)\u001b[0m\n\u001b[1;32m      1\u001b[0m \u001b[0;32mdef\u001b[0m \u001b[0mresults\u001b[0m\u001b[0;34m(\u001b[0m\u001b[0mX_test\u001b[0m\u001b[0;34m)\u001b[0m\u001b[0;34m:\u001b[0m\u001b[0;34m\u001b[0m\u001b[0m\n\u001b[0;32m----> 2\u001b[0;31m     \u001b[0mproba\u001b[0m \u001b[0;34m=\u001b[0m \u001b[0mh\u001b[0m\u001b[0;34m.\u001b[0m\u001b[0mpredict_proba\u001b[0m\u001b[0;34m(\u001b[0m\u001b[0mX_test\u001b[0m\u001b[0;34m)\u001b[0m\u001b[0;34m\u001b[0m\u001b[0m\n\u001b[0m\u001b[1;32m      3\u001b[0m     \u001b[0mY_pred\u001b[0m \u001b[0;34m=\u001b[0m \u001b[0;34m(\u001b[0m\u001b[0mproba\u001b[0m \u001b[0;34m>=\u001b[0m \u001b[0;36m0.4\u001b[0m\u001b[0;34m)\u001b[0m\u001b[0;34m.\u001b[0m\u001b[0mastype\u001b[0m\u001b[0;34m(\u001b[0m\u001b[0mint\u001b[0m\u001b[0;34m)\u001b[0m\u001b[0;34m\u001b[0m\u001b[0m\n\u001b[1;32m      4\u001b[0m     \u001b[0mprint\u001b[0m\u001b[0;34m(\u001b[0m\u001b[0;34m\"sum(sum(Y_pred)) = {}\"\u001b[0m\u001b[0;34m.\u001b[0m\u001b[0mformat\u001b[0m\u001b[0;34m(\u001b[0m\u001b[0msum\u001b[0m\u001b[0;34m(\u001b[0m\u001b[0msum\u001b[0m\u001b[0;34m(\u001b[0m\u001b[0mY_pred\u001b[0m\u001b[0;34m)\u001b[0m\u001b[0;34m)\u001b[0m\u001b[0;34m)\u001b[0m\u001b[0;34m)\u001b[0m\u001b[0;34m\u001b[0m\u001b[0m\n\u001b[1;32m      5\u001b[0m     \u001b[0mprint\u001b[0m\u001b[0;34m(\u001b[0m\u001b[0;34m\"sum(sum(Y_test)) = {}\"\u001b[0m\u001b[0;34m.\u001b[0m\u001b[0mformat\u001b[0m\u001b[0;34m(\u001b[0m\u001b[0msum\u001b[0m\u001b[0;34m(\u001b[0m\u001b[0msum\u001b[0m\u001b[0;34m(\u001b[0m\u001b[0mY_test\u001b[0m\u001b[0;34m)\u001b[0m\u001b[0;34m)\u001b[0m\u001b[0;34m)\u001b[0m\u001b[0;34m)\u001b[0m\u001b[0;34m\u001b[0m\u001b[0m\n",
      "\u001b[0;32m<ipython-input-103-91cf3841b7c9>\u001b[0m in \u001b[0;36mpredict_proba\u001b[0;34m(self, X)\u001b[0m\n\u001b[1;32m     84\u001b[0m         predictions = {\n\u001b[1;32m     85\u001b[0m               \u001b[0;31m# Generate predictions (for PREDICT and EVAL mode)\u001b[0m\u001b[0;34m\u001b[0m\u001b[0;34m\u001b[0m\u001b[0m\n\u001b[0;32m---> 86\u001b[0;31m               \u001b[0;34m\"classes\"\u001b[0m\u001b[0;34m:\u001b[0m \u001b[0mtf\u001b[0m\u001b[0;34m.\u001b[0m\u001b[0margmax\u001b[0m\u001b[0;34m(\u001b[0m\u001b[0minput\u001b[0m\u001b[0;34m=\u001b[0m\u001b[0mself\u001b[0m\u001b[0;34m.\u001b[0m\u001b[0mlogits\u001b[0m\u001b[0;34m,\u001b[0m \u001b[0maxis\u001b[0m\u001b[0;34m=\u001b[0m\u001b[0;36m1\u001b[0m\u001b[0;34m)\u001b[0m\u001b[0;34m,\u001b[0m\u001b[0;34m\u001b[0m\u001b[0m\n\u001b[0m\u001b[1;32m     87\u001b[0m               \u001b[0;31m# Add `softmax_tensor` to the graph. It is used for PREDICT and by the `logging_hook`.\u001b[0m\u001b[0;34m\u001b[0m\u001b[0;34m\u001b[0m\u001b[0m\n\u001b[1;32m     88\u001b[0m               \u001b[0;34m\"probabilities\"\u001b[0m\u001b[0;34m:\u001b[0m \u001b[0mtf\u001b[0m\u001b[0;34m.\u001b[0m\u001b[0mnn\u001b[0m\u001b[0;34m.\u001b[0m\u001b[0msoftmax\u001b[0m\u001b[0;34m(\u001b[0m\u001b[0mself\u001b[0m\u001b[0;34m.\u001b[0m\u001b[0mlogits\u001b[0m\u001b[0;34m,\u001b[0m \u001b[0mname\u001b[0m\u001b[0;34m=\u001b[0m\u001b[0;34m\"softmax_tensor\"\u001b[0m\u001b[0;34m)\u001b[0m\u001b[0;34m\u001b[0m\u001b[0m\n",
      "\u001b[0;31mAttributeError\u001b[0m: 'Network' object has no attribute 'logits'"
     ]
    }
   ],
   "source": [
    "results(X_test)"
   ]
  },
  {
   "cell_type": "code",
   "execution_count": null,
   "metadata": {},
   "outputs": [],
   "source": []
  }
 ],
 "metadata": {
  "kernelspec": {
   "display_name": "Python 3",
   "language": "python",
   "name": "python3"
  },
  "language_info": {
   "codemirror_mode": {
    "name": "ipython",
    "version": 3
   },
   "file_extension": ".py",
   "mimetype": "text/x-python",
   "name": "python",
   "nbconvert_exporter": "python",
   "pygments_lexer": "ipython3",
   "version": "3.6.3"
  }
 },
 "nbformat": 4,
 "nbformat_minor": 2
}
