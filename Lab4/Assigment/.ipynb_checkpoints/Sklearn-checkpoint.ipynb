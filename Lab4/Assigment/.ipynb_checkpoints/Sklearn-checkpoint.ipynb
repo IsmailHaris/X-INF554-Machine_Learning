{
 "cells": [
  {
   "cell_type": "code",
   "execution_count": 2,
   "metadata": {},
   "outputs": [],
   "source": [
    "from time import time\n",
    "import numpy as np\n",
    "import pandas as pd\n",
    "import tensorflow as tf\n",
    "from tensorflow import keras\n",
    "import matplotlib.pyplot as plt\n",
    "from sklearn import multiclass, multioutput, neighbors, tree, base"
   ]
  },
  {
   "cell_type": "code",
   "execution_count": 3,
   "metadata": {},
   "outputs": [],
   "source": [
    "###############################################################\n",
    "# This is an example script, you may modify it as you wish\n",
    "###############################################################\n",
    "\n",
    "# Parameters\n",
    "L = 6\n",
    "\n",
    "# Load and parse the data (N instances, D features, L labels)\n",
    "data = pd.read_csv('data/scene.csv') # Load data from CSV with Pandas\n",
    "XY = data.values\n",
    "N,DL = XY.shape\n",
    "D = DL - L\n",
    "Y = XY[:,0:L].astype(int)\n",
    "X = XY[:,L:D+L]\n",
    "\n",
    "# Split into train/test sets\n",
    "n = int(N*6/10)\n",
    "X_train = X[0:n]\n",
    "Y_train = Y[0:n]\n",
    "X_test = X[n:]\n",
    "Y_test = Y[n:]\n",
    "\n",
    "# Get class names\n",
    "class_names = list(data.columns.values[:L])"
   ]
  },
  {
   "cell_type": "code",
   "execution_count": 11,
   "metadata": {},
   "outputs": [],
   "source": [
    "from sklearn.multiclass import OneVsRestClassifier\n",
    "from sklearn.multioutput import ClassifierChain\n",
    "from sklearn.neighbors import KNeighborsClassifier\n",
    "from sklearn.tree import DecisionTreeClassifier\n",
    "from sklearn.svm import LinearSVC"
   ]
  },
  {
   "cell_type": "code",
   "execution_count": 33,
   "metadata": {},
   "outputs": [],
   "source": [
    "labels = [\"OneVsRest\", \"Chain\", \"KNN\", \"Tree\", \"NN\"]"
   ]
  },
  {
   "cell_type": "code",
   "execution_count": 29,
   "metadata": {},
   "outputs": [],
   "source": [
    "execution_times = []\n",
    "hamming_losses  = []\n",
    "\n",
    "t0 = time()\n",
    "Y_pred = OneVsRestClassifier(LinearSVC(random_state=0)).fit(X_train, Y_train).predict(X_test)\n",
    "t1 = time() - t0\n",
    "loss = np.mean(Y_pred != Y_test)\n",
    "execution_times.append(t1)\n",
    "hamming_losses.append(loss)\n",
    "\n",
    "t0 = time()\n",
    "Y_pred = ClassifierChain(LinearSVC(random_state=0)).fit(X_train, Y_train).predict(X_test)\n",
    "t1 = time() - t0\n",
    "loss = np.mean(Y_pred != Y_test)\n",
    "execution_times.append(t1)\n",
    "hamming_losses.append(loss)\n",
    "\n",
    "t0 = time()\n",
    "Y_pred = KNeighborsClassifier().fit(X_train, Y_train).predict(X_test)\n",
    "t1 = time() - t0\n",
    "loss = np.mean(Y_pred != Y_test)\n",
    "execution_times.append(t1)\n",
    "hamming_losses.append(loss)\n",
    "\n",
    "t0 = time()\n",
    "Y_pred = DecisionTreeClassifier().fit(X_train, Y_train).predict(X_test)\n",
    "t1 = time() - t0\n",
    "loss = np.mean(Y_pred != Y_test)\n",
    "execution_times.append(t1)\n",
    "hamming_losses.append(loss)"
   ]
  },
  {
   "cell_type": "code",
   "execution_count": 30,
   "metadata": {},
   "outputs": [],
   "source": [
    "execution_times.append(0.028985023498535156)\n",
    "hamming_losses.append(0.0765555555555)"
   ]
  },
  {
   "cell_type": "code",
   "execution_count": 31,
   "metadata": {},
   "outputs": [
    {
     "name": "stdout",
     "output_type": "stream",
     "text": [
      "[1.737413, 1.3469219999999993, 0.4808759999999985, 0.3906080000000003, 112]\n",
      "[0.116875, 0.11458333333333333, 0.105625, 0.14208333333333334, 0.0858333333335]\n"
     ]
    }
   ],
   "source": [
    "print(execution_times)\n",
    "print(hamming_losses)"
   ]
  },
  {
   "cell_type": "code",
   "execution_count": 34,
   "metadata": {},
   "outputs": [
    {
     "data": {
      "image/png": "[encoded data removed]",
      "text/plain": [
       "<Figure size 432x288 with 1 Axes>"
      ]
     },
     "metadata": {},
     "output_type": "display_data"
    }
   ],
   "source": [
    "plt.bar(labels,execution_times,align='center') # A bar chart\n",
    "plt.xlabel('Algorithms')\n",
    "plt.ylabel('Execution times')\n",
    "for i in range(len(execution_times)):\n",
    "    plt.hlines(execution_times[i],0,labels[i]) # Here you are drawing the horizontal lines\n",
    "plt.show()"
   ]
  },
  {
   "cell_type": "code",
   "execution_count": 35,
   "metadata": {},
   "outputs": [
    {
     "data": {
      "image/png": "[encoded data removed]",
      "text/plain": [
       "<Figure size 432x288 with 1 Axes>"
      ]
     },
     "metadata": {},
     "output_type": "display_data"
    }
   ],
   "source": [
    "plt.bar(labels,hamming_losses,align='center') # A bar chart\n",
    "plt.xlabel('Algorithms')\n",
    "plt.ylabel('Hamming Loss')\n",
    "for i in range(len(hamming_losses)):\n",
    "    plt.hlines(hamming_losses[i],0,hamming_losses[i]) # Here you are drawing the horizontal lines\n",
    "plt.show()"
   ]
  },
  {
   "cell_type": "code",
   "execution_count": null,
   "metadata": {},
   "outputs": [],
   "source": []
  }
 ],
 "metadata": {
  "kernelspec": {
   "display_name": "Python 3",
   "language": "python",
   "name": "python3"
  },
  "language_info": {
   "codemirror_mode": {
    "name": "ipython",
    "version": 3
   },
   "file_extension": ".py",
   "mimetype": "text/x-python",
   "name": "python",
   "nbconvert_exporter": "python",
   "pygments_lexer": "ipython3",
   "version": "3.6.3"
  }
 },
 "nbformat": 4,
 "nbformat_minor": 2
}
