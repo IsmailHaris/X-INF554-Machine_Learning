{
 "cells": [
  {
   "cell_type": "code",
   "execution_count": 71,
   "metadata": {},
   "outputs": [],
   "source": [
    "from tensorflow.examples.tutorials.mnist import input_data"
   ]
  },
  {
   "cell_type": "code",
   "execution_count": 72,
   "metadata": {},
   "outputs": [],
   "source": [
    "import numpy as np\n",
    "from __future__ import print_function\n",
    "import tensorflow as tf"
   ]
  },
  {
   "cell_type": "code",
   "execution_count": 77,
   "metadata": {},
   "outputs": [],
   "source": [
    "class Network():\n",
    "\n",
    "    alpha = 0.1\n",
    "\n",
    "    def __init__(self, learning_rate=0.1):\n",
    "        ''' initialize the classifier with default (best) parameters '''\n",
    "        # TODO\n",
    "        self.alpha = learning_rate\n",
    "\n",
    "        # Parameters\n",
    "        learning_rate = 0.001\n",
    "        self.batch_size = 30\n",
    "        self.display_step = 1\n",
    "\n",
    "        # Network Parameters\n",
    "        n_hidden_1 = 256 # 1st layer number of neurons\n",
    "        n_hidden_2 = 256 # 2nd layer number of neurons\n",
    "        n_input = 784 # MNIST data input (img shape: 28*28)\n",
    "        n_classes = 10 # Classes (0-9 digits)\n",
    "\n",
    "        # tf Graph input\n",
    "        self.X = tf.placeholder(\"float\", [None, n_input])\n",
    "        self.Y = tf.placeholder(\"float\", [None, n_classes])\n",
    "\n",
    "        # Store layers weight & bias\n",
    "        weights = {\n",
    "            'h1': tf.Variable(tf.random_normal([n_input, n_hidden_1])),\n",
    "            'h2': tf.Variable(tf.random_normal([n_hidden_1, n_hidden_2])),\n",
    "            'out': tf.Variable(tf.random_normal([n_hidden_2, n_classes]))\n",
    "        }\n",
    "        biases = {\n",
    "            'b1': tf.Variable(tf.random_normal([n_hidden_1])),\n",
    "            'b2': tf.Variable(tf.random_normal([n_hidden_2])),\n",
    "            'out': tf.Variable(tf.random_normal([n_classes]))\n",
    "        }\n",
    "\n",
    "        # Hidden fully connected layer with 256 neurons\n",
    "        layer_1 = tf.nn.sigmoid(tf.add(tf.matmul(self.X, weights['h1']), biases['b1']))\n",
    "        # Hidden fully connected layer with 256 neurons\n",
    "        layer_2 = tf.nn.sigmoid(tf.add(tf.matmul(layer_1, weights['h2']), biases['b2']))\n",
    "        # Output fully connected layer with a neuron for each class\n",
    "        self.logits = tf.matmul(layer_2, weights['out']) + biases['out']\n",
    "\n",
    "        # Define loss and optimizer\n",
    "        self.loss_op = tf.reduce_mean(tf.nn.softmax_cross_entropy_with_logits_v2(logits=self.logits, labels=self.Y))\n",
    "        optimizer = tf.train.AdamOptimizer(learning_rate=learning_rate)\n",
    "        self.train_op = optimizer.minimize(self.loss_op)\n",
    "\n",
    "        # Initializing the variables\n",
    "        init = tf.global_variables_initializer()\n",
    "        self.sess = tf.Session()\n",
    "        self.sess.run(init)\n",
    "\n",
    "    def fit(self,X,Y,warm_start=True,n_epochs=10):\n",
    "        ''' train the network, and if warm_start, then do not reinit. the network\n",
    "            (if it has already been initialized)\n",
    "        '''\n",
    "        #self.n_labels = Y.shape[1]\n",
    "\n",
    "        # Training cycle\n",
    "        for epoch in range(n_epochs):\n",
    "            avg_cost = 0.\n",
    "            total_batch = int(mnist.train.num_examples/self.batch_size)\n",
    "            # Loop over all batches\n",
    "            for i in range(total_batch):\n",
    "                batch_x, batch_y = mnist.train.next_batch(self.batch_size)\n",
    "                # Run optimization op (backprop) and cost op (to get loss value)\n",
    "                _, c = self.sess.run([self.train_op, self.loss_op], feed_dict={self.X: batch_x, self.Y: batch_y})\n",
    "                # Compute average loss\n",
    "                avg_cost += c / total_batch\n",
    "            # Display logs per epoch step\n",
    "            if epoch % self.display_step == 0:\n",
    "                print(\"Epoch:\", '%04d' % (epoch+1), \"cost={:.9f}\".format(avg_cost))\n",
    "        print(\"Optimization Finished!\")\n",
    "\n",
    "    def predict_proba(self,X):\n",
    "        ''' return a matrix P where P[i,j] = P(Y[i,j]=1), \n",
    "        for all instances i, and labels j. '''\n",
    "\n",
    "        predictions = {\n",
    "              # Generate predictions (for PREDICT and EVAL mode)\n",
    "              \"classes\": tf.argmax(input=self.logits, axis=1),\n",
    "              # Add `softmax_tensor` to the graph. It is used for PREDICT and by the\n",
    "              # `logging_hook`.\n",
    "              \"probabilities\": tf.nn.softmax(self.logits, name=\"softmax_tensor\")\n",
    "        }\n",
    "\n",
    "        return predictions[\"probabilities\"].eval(feed_dict={self.X: mnist.test.images})\n",
    "\n",
    "    def predict(self,X):\n",
    "        ''' return a matrix of predictions for X '''\n",
    "        return (self.predict_proba(X) >= 0.5).astype(int)"
   ]
  },
  {
   "cell_type": "code",
   "execution_count": 78,
   "metadata": {},
   "outputs": [],
   "source": [
    "#mnist = input_data.read_data_sets(\"/tmp/data/\", one_hot=True)"
   ]
  },
  {
   "cell_type": "code",
   "execution_count": 79,
   "metadata": {},
   "outputs": [],
   "source": [
    "h = Network()"
   ]
  },
  {
   "cell_type": "code",
   "execution_count": 76,
   "metadata": {},
   "outputs": [
    {
     "name": "stdout",
     "output_type": "stream",
     "text": [
      "Epoch: 0001 cost=1.179901510\n",
      "Epoch: 0002 cost=0.370814696\n",
      "Epoch: 0003 cost=0.237785064\n",
      "Epoch: 0004 cost=0.163106697\n",
      "Epoch: 0005 cost=0.113371572\n",
      "Epoch: 0006 cost=0.081114200\n",
      "Epoch: 0007 cost=0.058867808\n",
      "Epoch: 0008 cost=0.041754789\n",
      "Epoch: 0009 cost=0.030901306\n",
      "Epoch: 0010 cost=0.022608679\n",
      "Optimization Finished!\n"
     ]
    },
    {
     "data": {
      "text/plain": [
       "<__main__.Network at 0x12f276d68>"
      ]
     },
     "execution_count": 76,
     "metadata": {},
     "output_type": "execute_result"
    }
   ],
   "source": [
    "h.fit(1,2)"
   ]
  },
  {
   "cell_type": "code",
   "execution_count": 80,
   "metadata": {},
   "outputs": [
    {
     "ename": "AttributeError",
     "evalue": "'Network' object has no attribute 'logits'",
     "output_type": "error",
     "traceback": [
      "\u001b[0;31m---------------------------------------------------------------------------\u001b[0m",
      "\u001b[0;31mAttributeError\u001b[0m                            Traceback (most recent call last)",
      "\u001b[0;32m<ipython-input-80-0615118fca0c>\u001b[0m in \u001b[0;36m<module>\u001b[0;34m()\u001b[0m\n\u001b[0;32m----> 1\u001b[0;31m \u001b[0mproba\u001b[0m \u001b[0;34m=\u001b[0m \u001b[0mh\u001b[0m\u001b[0;34m.\u001b[0m\u001b[0mpredict_proba\u001b[0m\u001b[0;34m(\u001b[0m\u001b[0;36m1\u001b[0m\u001b[0;34m)\u001b[0m\u001b[0;34m\u001b[0m\u001b[0m\n\u001b[0m",
      "\u001b[0;32m<ipython-input-77-14600131b6d3>\u001b[0m in \u001b[0;36mpredict_proba\u001b[0;34m(self, X)\u001b[0m\n\u001b[1;32m     80\u001b[0m         predictions = {\n\u001b[1;32m     81\u001b[0m               \u001b[0;31m# Generate predictions (for PREDICT and EVAL mode)\u001b[0m\u001b[0;34m\u001b[0m\u001b[0;34m\u001b[0m\u001b[0m\n\u001b[0;32m---> 82\u001b[0;31m               \u001b[0;34m\"classes\"\u001b[0m\u001b[0;34m:\u001b[0m \u001b[0mtf\u001b[0m\u001b[0;34m.\u001b[0m\u001b[0margmax\u001b[0m\u001b[0;34m(\u001b[0m\u001b[0minput\u001b[0m\u001b[0;34m=\u001b[0m\u001b[0mself\u001b[0m\u001b[0;34m.\u001b[0m\u001b[0mlogits\u001b[0m\u001b[0;34m,\u001b[0m \u001b[0maxis\u001b[0m\u001b[0;34m=\u001b[0m\u001b[0;36m1\u001b[0m\u001b[0;34m)\u001b[0m\u001b[0;34m,\u001b[0m\u001b[0;34m\u001b[0m\u001b[0m\n\u001b[0m\u001b[1;32m     83\u001b[0m               \u001b[0;31m# Add `softmax_tensor` to the graph. It is used for PREDICT and by the\u001b[0m\u001b[0;34m\u001b[0m\u001b[0;34m\u001b[0m\u001b[0m\n\u001b[1;32m     84\u001b[0m               \u001b[0;31m# `logging_hook`.\u001b[0m\u001b[0;34m\u001b[0m\u001b[0;34m\u001b[0m\u001b[0m\n",
      "\u001b[0;31mAttributeError\u001b[0m: 'Network' object has no attribute 'logits'"
     ]
    }
   ],
   "source": [
    "proba = h.predict_proba(1)"
   ]
  },
  {
   "cell_type": "code",
   "execution_count": null,
   "metadata": {},
   "outputs": [],
   "source": []
  }
 ],
 "metadata": {
  "kernelspec": {
   "display_name": "Python 3",
   "language": "python",
   "name": "python3"
  },
  "language_info": {
   "codemirror_mode": {
    "name": "ipython",
    "version": 3
   },
   "file_extension": ".py",
   "mimetype": "text/x-python",
   "name": "python",
   "nbconvert_exporter": "python",
   "pygments_lexer": "ipython3",
   "version": "3.6.3"
  }
 },
 "nbformat": 4,
 "nbformat_minor": 2
}
