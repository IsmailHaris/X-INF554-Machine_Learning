{
 "cells": [
  {
   "cell_type": "code",
   "execution_count": 71,
   "metadata": {},
   "outputs": [],
   "source": [
    "from tensorflow.examples.tutorials.mnist import input_data"
   ]
  },
  {
   "cell_type": "code",
   "execution_count": 72,
   "metadata": {},
   "outputs": [],
   "source": [
    "import numpy as np\n",
    "from __future__ import print_function\n",
    "import tensorflow as tf"
   ]
  },
  {
   "cell_type": "code",
   "execution_count": 96,
   "metadata": {},
   "outputs": [],
   "source": [
    "class Network():\n",
    "\n",
    "    alpha = 0.1\n",
    "\n",
    "    def __init__(self, learning_rate=0.1):\n",
    "        ''' initialize the classifier with default (best) parameters '''\n",
    "        # TODO\n",
    "        self.alpha = learning_rate\n",
    "\n",
    "        # Parameters\n",
    "        learning_rate = 0.001\n",
    "        self.batch_size = 30\n",
    "        self.display_step = 1\n",
    "\n",
    "        # Network Parameters\n",
    "        n_hidden_1 = 256 # 1st layer number of neurons\n",
    "        n_hidden_2 = 256 # 2nd layer number of neurons\n",
    "        n_input = 784 # MNIST data input (img shape: 28*28)\n",
    "        n_classes = 10 # Classes (0-9 digits)\n",
    "\n",
    "        # tf Graph input\n",
    "        self.X = tf.placeholder(\"float\", [None, n_input])\n",
    "        self.Y = tf.placeholder(\"float\", [None, n_classes])\n",
    "\n",
    "        # Store layers weight & bias\n",
    "        weights = {\n",
    "            'h1': tf.Variable(tf.random_normal([n_input, n_hidden_1])),\n",
    "            'h2': tf.Variable(tf.random_normal([n_hidden_1, n_hidden_2])),\n",
    "            'out': tf.Variable(tf.random_normal([n_hidden_2, n_classes]))\n",
    "        }\n",
    "        biases = {\n",
    "            'b1': tf.Variable(tf.random_normal([n_hidden_1])),\n",
    "            'b2': tf.Variable(tf.random_normal([n_hidden_2])),\n",
    "            'out': tf.Variable(tf.random_normal([n_classes]))\n",
    "        }\n",
    "\n",
    "        # Hidden fully connected layer with 256 neurons\n",
    "        layer_1 = tf.nn.sigmoid(tf.add(tf.matmul(self.X, weights['h1']), biases['b1']))\n",
    "        # Hidden fully connected layer with 256 neurons\n",
    "        layer_2 = tf.nn.sigmoid(tf.add(tf.matmul(layer_1, weights['h2']), biases['b2']))\n",
    "        # Output fully connected layer with a neuron for each class\n",
    "        self.logits = tf.matmul(layer_2, weights['out']) + biases['out']\n",
    "\n",
    "        # Define loss and optimizer\n",
    "        self.loss_op = tf.reduce_mean(tf.nn.softmax_cross_entropy_with_logits_v2(logits=self.logits, labels=self.Y))\n",
    "        optimizer = tf.train.AdamOptimizer(learning_rate=learning_rate)\n",
    "        self.train_op = optimizer.minimize(self.loss_op)\n",
    "\n",
    "        # Initializing the variables\n",
    "        init = tf.global_variables_initializer()\n",
    "        self.sess = tf.Session()\n",
    "        self.sess.run(init)\n",
    "\n",
    "    def fit(self,X,Y,warm_start=True,n_epochs=100):\n",
    "        ''' train the network, and if warm_start, then do not reinit. the network\n",
    "            (if it has already been initialized)\n",
    "        '''\n",
    "        #self.n_labels = Y.shape[1]\n",
    "\n",
    "        # Training cycle\n",
    "        for epoch in range(n_epochs):\n",
    "            avg_cost = 0.\n",
    "            total_batch = int(mnist.train.num_examples/self.batch_size)\n",
    "            # Loop over all batches\n",
    "            for i in range(total_batch):\n",
    "                batch_x, batch_y = mnist.train.next_batch(self.batch_size)\n",
    "                # Run optimization op (backprop) and cost op (to get loss value)\n",
    "                _, c = self.sess.run([self.train_op, self.loss_op], feed_dict={self.X: batch_x, self.Y: batch_y})\n",
    "                # Compute average loss\n",
    "                avg_cost += c / total_batch\n",
    "            # Display logs per epoch step\n",
    "            if epoch % self.display_step == 0:\n",
    "                print(\"Epoch:\", '%04d' % (epoch+1), \"cost={:.9f}\".format(avg_cost))\n",
    "        print(\"Optimization Finished!\")\n",
    "\n",
    "    def predict_proba(self,X):\n",
    "        ''' return a matrix P where P[i,j] = P(Y[i,j]=1), \n",
    "        for all instances i, and labels j. '''\n",
    "\n",
    "        predictions = {\n",
    "              # Generate predictions (for PREDICT and EVAL mode)\n",
    "              \"classes\": tf.argmax(input=self.logits, axis=1),\n",
    "              # Add `softmax_tensor` to the graph. It is used for PREDICT and by the\n",
    "              # `logging_hook`.\n",
    "              \"probabilities\": tf.nn.softmax(self.logits, name=\"softmax_tensor\")\n",
    "        }\n",
    "\n",
    "        return predictions[\"probabilities\"].eval(feed_dict={self.X: mnist.test.images}, session=self.sess)\n",
    "\n",
    "    def predict(self,X):\n",
    "        ''' return a matrix of predictions for X '''\n",
    "        return (self.predict_proba(X) >= 0.5).astype(int)"
   ]
  },
  {
   "cell_type": "code",
   "execution_count": 97,
   "metadata": {},
   "outputs": [],
   "source": [
    "#mnist = input_data.read_data_sets(\"/tmp/data/\", one_hot=True)"
   ]
  },
  {
   "cell_type": "code",
   "execution_count": 98,
   "metadata": {},
   "outputs": [],
   "source": [
    "h = Network()"
   ]
  },
  {
   "cell_type": "code",
   "execution_count": 99,
   "metadata": {},
   "outputs": [
    {
     "name": "stdout",
     "output_type": "stream",
     "text": [
      "Epoch: 0001 cost=1.213979099\n",
      "Epoch: 0002 cost=0.384473990\n",
      "Epoch: 0003 cost=0.244094186\n",
      "Epoch: 0004 cost=0.167919970\n",
      "Epoch: 0005 cost=0.118508170\n",
      "Epoch: 0006 cost=0.086843417\n",
      "Epoch: 0007 cost=0.061206527\n",
      "Epoch: 0008 cost=0.043666708\n",
      "Epoch: 0009 cost=0.032730134\n",
      "Epoch: 0010 cost=0.022780091\n",
      "Epoch: 0011 cost=0.017355429\n",
      "Epoch: 0012 cost=0.013035941\n",
      "Epoch: 0013 cost=0.011634027\n",
      "Epoch: 0014 cost=0.007786019\n",
      "Epoch: 0015 cost=0.008720020\n",
      "Epoch: 0016 cost=0.005252224\n",
      "Epoch: 0017 cost=0.006047913\n",
      "Epoch: 0018 cost=0.005879202\n",
      "Epoch: 0019 cost=0.002722073\n",
      "Epoch: 0020 cost=0.007413884\n",
      "Epoch: 0021 cost=0.001331336\n",
      "Epoch: 0022 cost=0.003593847\n",
      "Epoch: 0023 cost=0.009132252\n",
      "Epoch: 0024 cost=0.000970939\n",
      "Epoch: 0025 cost=0.005696144\n",
      "Epoch: 0026 cost=0.000728002\n",
      "Epoch: 0027 cost=0.007818529\n",
      "Epoch: 0028 cost=0.001954308\n",
      "Epoch: 0029 cost=0.002480318\n",
      "Epoch: 0030 cost=0.007295658\n",
      "Epoch: 0031 cost=0.001339435\n",
      "Epoch: 0032 cost=0.007395078\n",
      "Epoch: 0033 cost=0.002552610\n",
      "Epoch: 0034 cost=0.001219776\n",
      "Epoch: 0035 cost=0.006392999\n",
      "Epoch: 0036 cost=0.000583514\n",
      "Epoch: 0037 cost=0.000190291\n",
      "Epoch: 0038 cost=0.000090007\n",
      "Epoch: 0039 cost=0.000061783\n",
      "Epoch: 0040 cost=0.011427362\n",
      "Epoch: 0041 cost=0.002285424\n",
      "Epoch: 0042 cost=0.000679794\n",
      "Epoch: 0043 cost=0.003687672\n",
      "Epoch: 0044 cost=0.006692500\n",
      "Epoch: 0045 cost=0.000818580\n",
      "Epoch: 0046 cost=0.000197787\n",
      "Epoch: 0047 cost=0.000052653\n",
      "Epoch: 0048 cost=0.000033254\n",
      "Epoch: 0049 cost=0.000024750\n",
      "Epoch: 0050 cost=0.008766958\n",
      "Epoch: 0051 cost=0.003248691\n",
      "Epoch: 0052 cost=0.000485504\n",
      "Epoch: 0053 cost=0.000091623\n",
      "Epoch: 0054 cost=0.000030352\n",
      "Epoch: 0055 cost=0.000019519\n",
      "Epoch: 0056 cost=0.000014379\n",
      "Epoch: 0057 cost=0.010547522\n",
      "Epoch: 0058 cost=0.003342326\n",
      "Epoch: 0059 cost=0.001398453\n",
      "Epoch: 0060 cost=0.004955668\n",
      "Epoch: 0061 cost=0.001319998\n",
      "Epoch: 0062 cost=0.004567965\n",
      "Epoch: 0063 cost=0.002164817\n",
      "Epoch: 0064 cost=0.003191708\n",
      "Epoch: 0065 cost=0.002619941\n",
      "Epoch: 0066 cost=0.002474920\n",
      "Epoch: 0067 cost=0.003164560\n",
      "Epoch: 0068 cost=0.002944189\n",
      "Epoch: 0069 cost=0.002656633\n",
      "Epoch: 0070 cost=0.003089706\n",
      "Epoch: 0071 cost=0.002179531\n",
      "Epoch: 0072 cost=0.001789641\n",
      "Epoch: 0073 cost=0.003139225\n",
      "Epoch: 0074 cost=0.002856180\n",
      "Epoch: 0075 cost=0.001748379\n",
      "Epoch: 0076 cost=0.002708019\n",
      "Epoch: 0077 cost=0.002271068\n",
      "Epoch: 0078 cost=0.002439771\n",
      "Epoch: 0079 cost=0.002729844\n",
      "Epoch: 0080 cost=0.002276727\n",
      "Epoch: 0081 cost=0.002279910\n",
      "Epoch: 0082 cost=0.002435914\n",
      "Epoch: 0083 cost=0.002228367\n",
      "Epoch: 0084 cost=0.002946278\n",
      "Epoch: 0085 cost=0.001252190\n",
      "Epoch: 0086 cost=0.002895733\n",
      "Epoch: 0087 cost=0.002627600\n",
      "Epoch: 0088 cost=0.000959824\n",
      "Epoch: 0089 cost=0.003930486\n",
      "Epoch: 0090 cost=0.002573516\n",
      "Epoch: 0091 cost=0.001753170\n",
      "Epoch: 0092 cost=0.002049885\n",
      "Epoch: 0093 cost=0.001153399\n",
      "Epoch: 0094 cost=0.001864458\n",
      "Epoch: 0095 cost=0.001238397\n",
      "Epoch: 0096 cost=0.002933701\n",
      "Epoch: 0097 cost=0.001066305\n",
      "Epoch: 0098 cost=0.003421147\n",
      "Epoch: 0099 cost=0.001761199\n",
      "Epoch: 0100 cost=0.001231470\n",
      "Optimization Finished!\n"
     ]
    }
   ],
   "source": [
    "h.fit(1,2)"
   ]
  },
  {
   "cell_type": "code",
   "execution_count": 100,
   "metadata": {},
   "outputs": [
    {
     "data": {
      "text/plain": [
       "array([3.0305915e-21, 1.4130888e-18, 7.1772158e-14, 9.2752598e-18,\n",
       "       1.1935199e-22, 4.3875520e-22, 2.3295744e-27, 1.0000000e+00,\n",
       "       3.3099278e-22, 1.1765401e-16], dtype=float32)"
      ]
     },
     "execution_count": 100,
     "metadata": {},
     "output_type": "execute_result"
    }
   ],
   "source": [
    "proba = h.predict_proba(1)\n",
    "proba[0]"
   ]
  },
  {
   "cell_type": "code",
   "execution_count": 101,
   "metadata": {},
   "outputs": [
    {
     "data": {
      "text/plain": [
       "array([[0, 0, 0, ..., 1, 0, 0],\n",
       "       [0, 0, 1, ..., 0, 0, 0],\n",
       "       [0, 1, 0, ..., 0, 0, 0],\n",
       "       ...,\n",
       "       [0, 0, 0, ..., 0, 0, 0],\n",
       "       [0, 0, 0, ..., 0, 0, 0],\n",
       "       [0, 0, 0, ..., 0, 0, 0]])"
      ]
     },
     "execution_count": 101,
     "metadata": {},
     "output_type": "execute_result"
    }
   ],
   "source": [
    "Y_pred = h.predict(1)\n",
    "Y_pred"
   ]
  },
  {
   "cell_type": "code",
   "execution_count": 102,
   "metadata": {},
   "outputs": [
    {
     "name": "stdout",
     "output_type": "stream",
     "text": [
      "Hamming loss:  0.00622\n"
     ]
    }
   ],
   "source": [
    "loss = np.mean(Y_pred != mnist.test.labels)\n",
    "print(\"Hamming loss: \", loss)"
   ]
  },
  {
   "cell_type": "code",
   "execution_count": null,
   "metadata": {},
   "outputs": [],
   "source": []
  }
 ],
 "metadata": {
  "kernelspec": {
   "display_name": "Python 3",
   "language": "python",
   "name": "python3"
  },
  "language_info": {
   "codemirror_mode": {
    "name": "ipython",
    "version": 3
   },
   "file_extension": ".py",
   "mimetype": "text/x-python",
   "name": "python",
   "nbconvert_exporter": "python",
   "pygments_lexer": "ipython3",
   "version": "3.6.3"
  }
 },
 "nbformat": 4,
 "nbformat_minor": 2
}
