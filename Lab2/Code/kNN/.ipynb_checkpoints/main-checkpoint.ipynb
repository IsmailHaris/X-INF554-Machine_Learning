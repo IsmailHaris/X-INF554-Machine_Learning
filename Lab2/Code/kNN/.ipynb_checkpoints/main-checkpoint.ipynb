{
 "cells": [
  {
   "cell_type": "code",
   "execution_count": 1,
   "metadata": {
    "scrolled": true
   },
   "outputs": [],
   "source": [
    "from numpy import *\n",
    "import matplotlib.pyplot as plt\n",
    "from utils import loadMnist\n",
    "from kNN import kNN_prediction    "
   ]
  },
  {
   "cell_type": "code",
   "execution_count": null,
   "metadata": {},
   "outputs": [],
   "source": [
    "def knn_test(k):\n",
    "    # Load training and test data\n",
    "    X_train, y_train = loadMnist('training')\n",
    "    X_test, y_test = loadMnist('testing')\n",
    "\n",
    "    # Keep a subset of the training and test data\n",
    "    # (just to make testing faster)\n",
    "    X_train = X_train[:2000,:]\n",
    "    y_train = y_train[:2000]\n",
    "\n",
    "    # Section off some testing data\n",
    "    X_test = X_test[:50,:]\n",
    "    y_test = y_test[:50]\n",
    "\n",
    "    # Show the first ten digits (inspect the data)\n",
    "    fig = plt.figure('First 10 Digits') \n",
    "    for i in range(10):\n",
    "        a = fig.add_subplot(2,5,i+1) \n",
    "        plt.imshow(X_test[i,:].reshape(28,28), cmap=plt.cm.gray)\n",
    "        plt.axis('off')\n",
    "    #plt.show()\n",
    "\n",
    "    # Run kNN algorithm\n",
    "    y_pred = zeros(X_test.shape[0])\n",
    "\n",
    "    # Get prediction for each instance\n",
    "    for i in range(X_test.shape[0]):\n",
    "        # print(\"Current Test Instance: %d\" % (i+1))\n",
    "        y_pred[i] = kNN_prediction(k, X_train, y_train, X_test[i,:])\n",
    "\n",
    "    # Evaluation\n",
    "    accuracy = mean(y_pred == y_test)\n",
    "    print(\"\\nAccuracy: %4.3f\" % accuracy)"
   ]
  },
  {
   "cell_type": "code",
   "execution_count": null,
   "metadata": {},
   "outputs": [
    {
     "name": "stdout",
     "output_type": "stream",
     "text": [
      "\n",
      "Accuracy: 1.000\n"
     ]
    },
    {
     "name": "stderr",
     "output_type": "stream",
     "text": [
      "/Library/Frameworks/Python.framework/Versions/3.6/lib/python3.6/site-packages/matplotlib/cbook/deprecation.py:107: MatplotlibDeprecationWarning: Adding an axes using the same arguments as a previous axes currently reuses the earlier instance.  In a future version, a new instance will always be created and returned.  Meanwhile, this warning can be suppressed, and the future behavior ensured, by passing a unique label to each axes instance.\n",
      "  warnings.warn(message, mplDeprecation, stacklevel=1)\n"
     ]
    },
    {
     "name": "stdout",
     "output_type": "stream",
     "text": [
      "\n",
      "Accuracy: 1.000\n"
     ]
    }
   ],
   "source": [
    "for k in range(1,10):\n",
    "    knn_test(k)"
   ]
  },
  {
   "cell_type": "code",
   "execution_count": null,
   "metadata": {},
   "outputs": [],
   "source": []
  }
 ],
 "metadata": {
  "kernelspec": {
   "display_name": "Python 3",
   "language": "python",
   "name": "python3"
  },
  "language_info": {
   "codemirror_mode": {
    "name": "ipython",
    "version": 3
   },
   "file_extension": ".py",
   "mimetype": "text/x-python",
   "name": "python",
   "nbconvert_exporter": "python",
   "pygments_lexer": "ipython3",
   "version": "3.6.3"
  }
 },
 "nbformat": 4,
 "nbformat_minor": 2
}
